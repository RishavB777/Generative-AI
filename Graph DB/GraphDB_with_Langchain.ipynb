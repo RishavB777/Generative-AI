{
  "nbformat": 4,
  "nbformat_minor": 0,
  "metadata": {
    "colab": {
      "provenance": []
    },
    "kernelspec": {
      "name": "python3",
      "display_name": "Python 3"
    },
    "language_info": {
      "name": "python"
    }
  },
  "cells": [
    {
      "cell_type": "code",
      "execution_count": 1,
      "metadata": {
        "colab": {
          "base_uri": "https://localhost:8080/"
        },
        "id": "LKstQWH8FvLL",
        "outputId": "36fc4ae2-1379-4997-f81d-4dd13785a58e"
      },
      "outputs": [
        {
          "output_type": "stream",
          "name": "stdout",
          "text": [
            "\u001b[2K     \u001b[90m━━━━━━━━━━━━━━━━━━━━━━━━━━━━━━━━━━━━━━━━\u001b[0m \u001b[32m50.4/50.4 kB\u001b[0m \u001b[31m2.3 MB/s\u001b[0m eta \u001b[36m0:00:00\u001b[0m\n",
            "\u001b[2K   \u001b[90m━━━━━━━━━━━━━━━━━━━━━━━━━━━━━━━━━━━━━━━━\u001b[0m \u001b[32m990.6/990.6 kB\u001b[0m \u001b[31m15.6 MB/s\u001b[0m eta \u001b[36m0:00:00\u001b[0m\n",
            "\u001b[2K   \u001b[90m━━━━━━━━━━━━━━━━━━━━━━━━━━━━━━━━━━━━━━━━\u001b[0m \u001b[32m2.3/2.3 MB\u001b[0m \u001b[31m61.7 MB/s\u001b[0m eta \u001b[36m0:00:00\u001b[0m\n",
            "\u001b[2K   \u001b[90m━━━━━━━━━━━━━━━━━━━━━━━━━━━━━━━━━━━━━━━━\u001b[0m \u001b[32m293.7/293.7 kB\u001b[0m \u001b[31m23.6 MB/s\u001b[0m eta \u001b[36m0:00:00\u001b[0m\n",
            "\u001b[2K   \u001b[90m━━━━━━━━━━━━━━━━━━━━━━━━━━━━━━━━━━━━━━━━\u001b[0m \u001b[32m103.5/103.5 kB\u001b[0m \u001b[31m9.0 MB/s\u001b[0m eta \u001b[36m0:00:00\u001b[0m\n",
            "\u001b[2K   \u001b[90m━━━━━━━━━━━━━━━━━━━━━━━━━━━━━━━━━━━━━━━━\u001b[0m \u001b[32m379.9/379.9 kB\u001b[0m \u001b[31m29.3 MB/s\u001b[0m eta \u001b[36m0:00:00\u001b[0m\n",
            "\u001b[2K   \u001b[90m━━━━━━━━━━━━━━━━━━━━━━━━━━━━━━━━━━━━━━━━\u001b[0m \u001b[32m140.1/140.1 kB\u001b[0m \u001b[31m12.0 MB/s\u001b[0m eta \u001b[36m0:00:00\u001b[0m\n",
            "\u001b[2K   \u001b[90m━━━━━━━━━━━━━━━━━━━━━━━━━━━━━━━━━━━━━━━━\u001b[0m \u001b[32m75.6/75.6 kB\u001b[0m \u001b[31m6.2 MB/s\u001b[0m eta \u001b[36m0:00:00\u001b[0m\n",
            "\u001b[2K   \u001b[90m━━━━━━━━━━━━━━━━━━━━━━━━━━━━━━━━━━━━━━━━\u001b[0m \u001b[32m77.9/77.9 kB\u001b[0m \u001b[31m6.3 MB/s\u001b[0m eta \u001b[36m0:00:00\u001b[0m\n",
            "\u001b[2K   \u001b[90m━━━━━━━━━━━━━━━━━━━━━━━━━━━━━━━━━━━━━━━━\u001b[0m \u001b[32m49.2/49.2 kB\u001b[0m \u001b[31m4.2 MB/s\u001b[0m eta \u001b[36m0:00:00\u001b[0m\n",
            "\u001b[2K   \u001b[90m━━━━━━━━━━━━━━━━━━━━━━━━━━━━━━━━━━━━━━━━\u001b[0m \u001b[32m141.1/141.1 kB\u001b[0m \u001b[31m10.8 MB/s\u001b[0m eta \u001b[36m0:00:00\u001b[0m\n",
            "\u001b[2K   \u001b[90m━━━━━━━━━━━━━━━━━━━━━━━━━━━━━━━━━━━━━━━━\u001b[0m \u001b[32m58.3/58.3 kB\u001b[0m \u001b[31m5.3 MB/s\u001b[0m eta \u001b[36m0:00:00\u001b[0m\n",
            "\u001b[?25h"
          ]
        }
      ],
      "source": [
        "!pip install --upgrade --quiet langchain langchain-community langchain-groq neo4j"
      ]
    },
    {
      "cell_type": "code",
      "source": [
        "# graphdb configuration\n",
        "NEO4J_URI = \"neo4j+s://e6039c80.databases.neo4j.io\"\n",
        "NEO4J_USERNAME = \"neo4j\"\n",
        "NEO4J_PASSWORD = \"_LX1d10pNbHaXdVNelVJ11P27C4lgJWFQpfaGaJICwg\""
      ],
      "metadata": {
        "id": "DY9L_CNVGQdo"
      },
      "execution_count": 2,
      "outputs": []
    },
    {
      "cell_type": "code",
      "source": [
        "import os\n",
        "os.environ[\"NEO4J_URI\"] = NEO4J_URI\n",
        "os.environ[\"NEO4J_USERNAME\"] = NEO4J_USERNAME\n",
        "os.environ[\"NEO4J_PASSWORD\"] = NEO4J_PASSWORD"
      ],
      "metadata": {
        "id": "AJiGUPNpIo-9"
      },
      "execution_count": 3,
      "outputs": []
    },
    {
      "cell_type": "code",
      "source": [
        "from langchain_community.graphs import Neo4jGraph\n",
        "graph = Neo4jGraph(\n",
        "    url=NEO4J_URI,\n",
        "    username=NEO4J_USERNAME,\n",
        "    password=NEO4J_PASSWORD,\n",
        ")"
      ],
      "metadata": {
        "id": "0LBP0GUhJMC6"
      },
      "execution_count": 4,
      "outputs": []
    },
    {
      "cell_type": "code",
      "source": [
        "graph"
      ],
      "metadata": {
        "colab": {
          "base_uri": "https://localhost:8080/"
        },
        "id": "T59C2TG-Jhx3",
        "outputId": "2c56a6e2-1db0-4ebe-cc3e-c8d84e958fdf"
      },
      "execution_count": 10,
      "outputs": [
        {
          "output_type": "execute_result",
          "data": {
            "text/plain": [
              "<langchain_community.graphs.neo4j_graph.Neo4jGraph at 0x7be7a7391f60>"
            ]
          },
          "metadata": {},
          "execution_count": 10
        }
      ]
    },
    {
      "cell_type": "code",
      "source": [
        "groq_api_key = \"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\""
      ],
      "metadata": {
        "id": "IQk4rKBRJ-F-"
      },
      "execution_count": 5,
      "outputs": []
    },
    {
      "cell_type": "code",
      "source": [
        "from langchain_groq import ChatGroq\n",
        "llm = ChatGroq(groq_api_key=groq_api_key, model_name=\"Gemma2-9b-It\")\n",
        "llm"
      ],
      "metadata": {
        "colab": {
          "base_uri": "https://localhost:8080/"
        },
        "id": "GyMQjksbLDDp",
        "outputId": "5f3f3f7f-adbe-4c83-c103-a465ef7313db"
      },
      "execution_count": 6,
      "outputs": [
        {
          "output_type": "execute_result",
          "data": {
            "text/plain": [
              "ChatGroq(client=<groq.resources.chat.completions.Completions object at 0x7ec8734988b0>, async_client=<groq.resources.chat.completions.AsyncCompletions object at 0x7ec873499570>, model_name='Gemma2-9b-It', groq_api_key=SecretStr('**********'))"
            ]
          },
          "metadata": {},
          "execution_count": 6
        }
      ]
    },
    {
      "cell_type": "code",
      "source": [
        "from langchain_core.documents import Document\n",
        "text = \"\"\"\n",
        "Joshua Orobosa Zirkzee (born 22 May 2001) is a Dutch professional footballer who plays as a forward for Premier League club Manchester United and the Netherlands national team.\n",
        "Born in Schiedam to a Nigerian mother and a Dutch father, Zirkzee began his footballing career as a five-year-old with VV Hekelingen after the family had moved to Spijkenisse.[11] After impressing early on, he moved to the youth department of Spartaan '20 in 2010,[11] where he played alongside his cousin, Nelson Amadin.[12] He then left for ADO Den Haag in 2013, before ending up in the Feyenoord youth academy in 2016.[13] One year later, Zirkzee left the Feyenoord academy in his native Netherlands to join the youth setup of Bayern Munich.\n",
        "On 1 March 2019, Zirkzee scored a hat-trick in his debut for Bayern Munich II.[14] Just a day later, he scored the winning goal for the under-19 side as they defeated 1. FC Nürnberg 2–1.[14] Zirkzee made his professional debut in the 3. Liga for Bayern Munich II on 20 July 2019, coming on as a substitute in the 74th minute for Oliver Batista Meier in the away match against Würzburger Kickers.[15]\n",
        "\n",
        "On 11 December 2019, Zirkzee made his debut for the senior team against Tottenham Hotspur in the final group stage match of the Champions League.[16] He subsequently made his Bundesliga debut on 18 December, coming on as a substitute in the 90th minute in a match against Freiburg tied at 1–1; he scored the winner almost immediately after entering the game. Shortly after, Serge Gnabry added another stoppage-time goal to secure a 3–1 victory.[17] Two days later, he again came off the bench in the final minutes of the game and scored the winning goal as Bayern defeated Wolfsburg.[18] On 13 June 2020, Zirkzee scored the opening goal in Bayern Munich's 2–1 win against Borussia Mönchengladbach.[19] He finished off his debut season with a continental treble.\n",
        "On 31 January 2021, Zirkzee moved to Italian side Parma on a loan deal.[20] The deal included an option to buy.[20] On 2 April 2021, he suffered an LCL injury,[21] and his loan was limited to four appearances, all as a substitute.\n",
        "On 3 August 2021, Anderlecht announced the signing of Zirkzee on a season-long loan from Bayern Munich.[22] He finished the 2021–22 season as the club's top scorer with 16 goals, in addition to providing nine assists in 34 league starts.\n",
        "On 30 August 2022, Zirkzee was transferred to Serie A club Bologna on a permanent deal.[24] Later that year, on 16 October, he scored his first goal at the club, by netting the opener in a 3–2 defeat against Napoli.[25] In his second season under coach Thiago Motta, he managed to score eight goals in 16 games in the first half of the 2023–24 campaign, attracting transfer interest from several top European clubs with his former club Bayern Munich still having a 40% cut of any possible transfer fee.[26] He ultimately finished the season as Bologna's top scorer, netting 11 goals and providing five assists,[27] helping his club secure a berth in the Champions League group stage.\n",
        "\n",
        "\n",
        "\"\"\"\n",
        "documents=[Document(page_content=text)]\n",
        "documents"
      ],
      "metadata": {
        "colab": {
          "base_uri": "https://localhost:8080/"
        },
        "id": "p-Llj07Ypdac",
        "outputId": "6ce558a3-9725-409d-b4fe-8e8e60842349"
      },
      "execution_count": 7,
      "outputs": [
        {
          "output_type": "execute_result",
          "data": {
            "text/plain": [
              "[Document(page_content=\"\\nJoshua Orobosa Zirkzee (born 22 May 2001) is a Dutch professional footballer who plays as a forward for Premier League club Manchester United and the Netherlands national team.\\nBorn in Schiedam to a Nigerian mother and a Dutch father, Zirkzee began his footballing career as a five-year-old with VV Hekelingen after the family had moved to Spijkenisse.[11] After impressing early on, he moved to the youth department of Spartaan '20 in 2010,[11] where he played alongside his cousin, Nelson Amadin.[12] He then left for ADO Den Haag in 2013, before ending up in the Feyenoord youth academy in 2016.[13] One year later, Zirkzee left the Feyenoord academy in his native Netherlands to join the youth setup of Bayern Munich.\\nOn 1 March 2019, Zirkzee scored a hat-trick in his debut for Bayern Munich II.[14] Just a day later, he scored the winning goal for the under-19 side as they defeated 1. FC Nürnberg 2–1.[14] Zirkzee made his professional debut in the 3. Liga for Bayern Munich II on 20 July 2019, coming on as a substitute in the 74th minute for Oliver Batista Meier in the away match against Würzburger Kickers.[15]\\n\\nOn 11 December 2019, Zirkzee made his debut for the senior team against Tottenham Hotspur in the final group stage match of the Champions League.[16] He subsequently made his Bundesliga debut on 18 December, coming on as a substitute in the 90th minute in a match against Freiburg tied at 1–1; he scored the winner almost immediately after entering the game. Shortly after, Serge Gnabry added another stoppage-time goal to secure a 3–1 victory.[17] Two days later, he again came off the bench in the final minutes of the game and scored the winning goal as Bayern defeated Wolfsburg.[18] On 13 June 2020, Zirkzee scored the opening goal in Bayern Munich's 2–1 win against Borussia Mönchengladbach.[19] He finished off his debut season with a continental treble.\\nOn 31 January 2021, Zirkzee moved to Italian side Parma on a loan deal.[20] The deal included an option to buy.[20] On 2 April 2021, he suffered an LCL injury,[21] and his loan was limited to four appearances, all as a substitute.\\nOn 3 August 2021, Anderlecht announced the signing of Zirkzee on a season-long loan from Bayern Munich.[22] He finished the 2021–22 season as the club's top scorer with 16 goals, in addition to providing nine assists in 34 league starts.\\nOn 30 August 2022, Zirkzee was transferred to Serie A club Bologna on a permanent deal.[24] Later that year, on 16 October, he scored his first goal at the club, by netting the opener in a 3–2 defeat against Napoli.[25] In his second season under coach Thiago Motta, he managed to score eight goals in 16 games in the first half of the 2023–24 campaign, attracting transfer interest from several top European clubs with his former club Bayern Munich still having a 40% cut of any possible transfer fee.[26] He ultimately finished the season as Bologna's top scorer, netting 11 goals and providing five assists,[27] helping his club secure a berth in the Champions League group stage.\\n\\n\\n\")]"
            ]
          },
          "metadata": {},
          "execution_count": 7
        }
      ]
    },
    {
      "cell_type": "code",
      "source": [
        "!pip install --upgrade --quiet langchain-experimental"
      ],
      "metadata": {
        "colab": {
          "base_uri": "https://localhost:8080/"
        },
        "id": "DZVUKRjjqpCp",
        "outputId": "adc61d07-a552-4547-ad06-c8dea16286fd"
      },
      "execution_count": 8,
      "outputs": [
        {
          "output_type": "stream",
          "name": "stdout",
          "text": [
            "\u001b[?25l   \u001b[90m━━━━━━━━━━━━━━━━━━━━━━━━━━━━━━━━━━━━━━━━\u001b[0m \u001b[32m0.0/204.3 kB\u001b[0m \u001b[31m?\u001b[0m eta \u001b[36m-:--:--\u001b[0m\r\u001b[2K   \u001b[91m━━━━━━━━━━━━━━\u001b[0m\u001b[90m╺\u001b[0m\u001b[90m━━━━━━━━━━━━━━━━━━━━━━━━━\u001b[0m \u001b[32m71.7/204.3 kB\u001b[0m \u001b[31m2.2 MB/s\u001b[0m eta \u001b[36m0:00:01\u001b[0m\r\u001b[2K   \u001b[91m━━━━━━━━━━━━━━━━━━━━━━━━━━━━━━━━━━━━━━\u001b[0m\u001b[90m╺\u001b[0m\u001b[90m━\u001b[0m \u001b[32m194.6/204.3 kB\u001b[0m \u001b[31m3.1 MB/s\u001b[0m eta \u001b[36m0:00:01\u001b[0m\r\u001b[2K   \u001b[90m━━━━━━━━━━━━━━━━━━━━━━━━━━━━━━━━━━━━━━━━\u001b[0m \u001b[32m204.3/204.3 kB\u001b[0m \u001b[31m2.7 MB/s\u001b[0m eta \u001b[36m0:00:00\u001b[0m\n",
            "\u001b[?25h"
          ]
        }
      ]
    },
    {
      "cell_type": "code",
      "source": [
        "from langchain_experimental.graph_transformers import LLMGraphTransformer\n",
        "llm_transformer = LLMGraphTransformer(llm=llm)"
      ],
      "metadata": {
        "id": "K7t5-j2aqWFw"
      },
      "execution_count": 9,
      "outputs": []
    },
    {
      "cell_type": "code",
      "source": [
        "graph_docs = llm_transformer.convert_to_graph_documents(documents)"
      ],
      "metadata": {
        "id": "rvaIsNWBq_Cd"
      },
      "execution_count": 10,
      "outputs": []
    },
    {
      "cell_type": "code",
      "source": [
        "graph_docs"
      ],
      "metadata": {
        "colab": {
          "base_uri": "https://localhost:8080/"
        },
        "id": "J3i-X7WGrLdb",
        "outputId": "b42e76f3-1fd5-4442-c539-4c632d334cae"
      },
      "execution_count": 11,
      "outputs": [
        {
          "output_type": "execute_result",
          "data": {
            "text/plain": [
              "[GraphDocument(nodes=[Node(id='Joshua Orobosa Zirkzee', type='Person'), Node(id='Manchester United', type='Sports team'), Node(id='Netherlands National Team', type='Sports team'), Node(id='Vv Hekelingen', type='Sports team'), Node(id=\"Spartaan '20\", type='Sports team'), Node(id='Ado Den Haag', type='Sports team'), Node(id='Feyenoord', type='Sports team'), Node(id='Bayern Munich', type='Sports team'), Node(id='Bayern Munich Ii', type='Sports team'), Node(id='Tottenham Hotspur', type='Sports team'), Node(id='Freiburg', type='Sports team'), Node(id='Wolfsburg', type='Sports team'), Node(id='Borussia Mönchengladbach', type='Sports team'), Node(id='Parma', type='Sports team'), Node(id='Anderlecht', type='Sports team'), Node(id='Bologna', type='Sports team'), Node(id='Napoli', type='Sports team')], relationships=[Relationship(source=Node(id='Joshua Orobosa Zirkzee', type='Person'), target=Node(id='Manchester United', type='Sports team'), type='PLAYS_FOR'), Relationship(source=Node(id='Joshua Orobosa Zirkzee', type='Person'), target=Node(id='Netherlands National Team', type='Sports team'), type='PLAYS_FOR'), Relationship(source=Node(id='Joshua Orobosa Zirkzee', type='Person'), target=Node(id='Vv Hekelingen', type='Sports team'), type='PLAYED_FOR'), Relationship(source=Node(id='Joshua Orobosa Zirkzee', type='Person'), target=Node(id=\"Spartaan '20\", type='Sports team'), type='PLAYED_FOR'), Relationship(source=Node(id='Joshua Orobosa Zirkzee', type='Person'), target=Node(id='Ado Den Haag', type='Sports team'), type='PLAYED_FOR'), Relationship(source=Node(id='Joshua Orobosa Zirkzee', type='Person'), target=Node(id='Feyenoord', type='Sports team'), type='PLAYED_FOR'), Relationship(source=Node(id='Joshua Orobosa Zirkzee', type='Person'), target=Node(id='Bayern Munich', type='Sports team'), type='PLAYED_FOR'), Relationship(source=Node(id='Joshua Orobosa Zirkzee', type='Person'), target=Node(id='Bayern Munich Ii', type='Sports team'), type='PLAYED_FOR'), Relationship(source=Node(id='Joshua Orobosa Zirkzee', type='Person'), target=Node(id='Tottenham Hotspur', type='Sports team'), type='PLAYED_AGAINST'), Relationship(source=Node(id='Joshua Orobosa Zirkzee', type='Person'), target=Node(id='Freiburg', type='Sports team'), type='PLAYED_AGAINST'), Relationship(source=Node(id='Joshua Orobosa Zirkzee', type='Person'), target=Node(id='Wolfsburg', type='Sports team'), type='PLAYED_AGAINST'), Relationship(source=Node(id='Joshua Orobosa Zirkzee', type='Person'), target=Node(id='Borussia Mönchengladbach', type='Sports team'), type='PLAYED_AGAINST'), Relationship(source=Node(id='Joshua Orobosa Zirkzee', type='Person'), target=Node(id='Parma', type='Sports team'), type='PLAYED_FOR'), Relationship(source=Node(id='Joshua Orobosa Zirkzee', type='Person'), target=Node(id='Anderlecht', type='Sports team'), type='PLAYED_FOR'), Relationship(source=Node(id='Joshua Orobosa Zirkzee', type='Person'), target=Node(id='Bologna', type='Sports team'), type='PLAYED_FOR'), Relationship(source=Node(id='Joshua Orobosa Zirkzee', type='Person'), target=Node(id='Napoli', type='Sports team'), type='PLAYED_AGAINST')], source=Document(page_content=\"\\nJoshua Orobosa Zirkzee (born 22 May 2001) is a Dutch professional footballer who plays as a forward for Premier League club Manchester United and the Netherlands national team.\\nBorn in Schiedam to a Nigerian mother and a Dutch father, Zirkzee began his footballing career as a five-year-old with VV Hekelingen after the family had moved to Spijkenisse.[11] After impressing early on, he moved to the youth department of Spartaan '20 in 2010,[11] where he played alongside his cousin, Nelson Amadin.[12] He then left for ADO Den Haag in 2013, before ending up in the Feyenoord youth academy in 2016.[13] One year later, Zirkzee left the Feyenoord academy in his native Netherlands to join the youth setup of Bayern Munich.\\nOn 1 March 2019, Zirkzee scored a hat-trick in his debut for Bayern Munich II.[14] Just a day later, he scored the winning goal for the under-19 side as they defeated 1. FC Nürnberg 2–1.[14] Zirkzee made his professional debut in the 3. Liga for Bayern Munich II on 20 July 2019, coming on as a substitute in the 74th minute for Oliver Batista Meier in the away match against Würzburger Kickers.[15]\\n\\nOn 11 December 2019, Zirkzee made his debut for the senior team against Tottenham Hotspur in the final group stage match of the Champions League.[16] He subsequently made his Bundesliga debut on 18 December, coming on as a substitute in the 90th minute in a match against Freiburg tied at 1–1; he scored the winner almost immediately after entering the game. Shortly after, Serge Gnabry added another stoppage-time goal to secure a 3–1 victory.[17] Two days later, he again came off the bench in the final minutes of the game and scored the winning goal as Bayern defeated Wolfsburg.[18] On 13 June 2020, Zirkzee scored the opening goal in Bayern Munich's 2–1 win against Borussia Mönchengladbach.[19] He finished off his debut season with a continental treble.\\nOn 31 January 2021, Zirkzee moved to Italian side Parma on a loan deal.[20] The deal included an option to buy.[20] On 2 April 2021, he suffered an LCL injury,[21] and his loan was limited to four appearances, all as a substitute.\\nOn 3 August 2021, Anderlecht announced the signing of Zirkzee on a season-long loan from Bayern Munich.[22] He finished the 2021–22 season as the club's top scorer with 16 goals, in addition to providing nine assists in 34 league starts.\\nOn 30 August 2022, Zirkzee was transferred to Serie A club Bologna on a permanent deal.[24] Later that year, on 16 October, he scored his first goal at the club, by netting the opener in a 3–2 defeat against Napoli.[25] In his second season under coach Thiago Motta, he managed to score eight goals in 16 games in the first half of the 2023–24 campaign, attracting transfer interest from several top European clubs with his former club Bayern Munich still having a 40% cut of any possible transfer fee.[26] He ultimately finished the season as Bologna's top scorer, netting 11 goals and providing five assists,[27] helping his club secure a berth in the Champions League group stage.\\n\\n\\n\"))]"
            ]
          },
          "metadata": {},
          "execution_count": 11
        }
      ]
    },
    {
      "cell_type": "code",
      "source": [
        "graph_docs[0].nodes"
      ],
      "metadata": {
        "colab": {
          "base_uri": "https://localhost:8080/"
        },
        "id": "zIA0At41riLv",
        "outputId": "e41c8304-600d-4aa7-c51d-b913b36793aa"
      },
      "execution_count": 12,
      "outputs": [
        {
          "output_type": "execute_result",
          "data": {
            "text/plain": [
              "[Node(id='Joshua Orobosa Zirkzee', type='Person'),\n",
              " Node(id='Manchester United', type='Sports team'),\n",
              " Node(id='Netherlands National Team', type='Sports team'),\n",
              " Node(id='Vv Hekelingen', type='Sports team'),\n",
              " Node(id=\"Spartaan '20\", type='Sports team'),\n",
              " Node(id='Ado Den Haag', type='Sports team'),\n",
              " Node(id='Feyenoord', type='Sports team'),\n",
              " Node(id='Bayern Munich', type='Sports team'),\n",
              " Node(id='Bayern Munich Ii', type='Sports team'),\n",
              " Node(id='Tottenham Hotspur', type='Sports team'),\n",
              " Node(id='Freiburg', type='Sports team'),\n",
              " Node(id='Wolfsburg', type='Sports team'),\n",
              " Node(id='Borussia Mönchengladbach', type='Sports team'),\n",
              " Node(id='Parma', type='Sports team'),\n",
              " Node(id='Anderlecht', type='Sports team'),\n",
              " Node(id='Bologna', type='Sports team'),\n",
              " Node(id='Napoli', type='Sports team')]"
            ]
          },
          "metadata": {},
          "execution_count": 12
        }
      ]
    },
    {
      "cell_type": "code",
      "source": [
        "graph_docs[0].relationships"
      ],
      "metadata": {
        "colab": {
          "base_uri": "https://localhost:8080/"
        },
        "id": "CYh3ptWsryKK",
        "outputId": "a4526205-01ed-4c14-9d14-ab0920abfaec"
      },
      "execution_count": 13,
      "outputs": [
        {
          "output_type": "execute_result",
          "data": {
            "text/plain": [
              "[Relationship(source=Node(id='Joshua Orobosa Zirkzee', type='Person'), target=Node(id='Manchester United', type='Sports team'), type='PLAYS_FOR'),\n",
              " Relationship(source=Node(id='Joshua Orobosa Zirkzee', type='Person'), target=Node(id='Netherlands National Team', type='Sports team'), type='PLAYS_FOR'),\n",
              " Relationship(source=Node(id='Joshua Orobosa Zirkzee', type='Person'), target=Node(id='Vv Hekelingen', type='Sports team'), type='PLAYED_FOR'),\n",
              " Relationship(source=Node(id='Joshua Orobosa Zirkzee', type='Person'), target=Node(id=\"Spartaan '20\", type='Sports team'), type='PLAYED_FOR'),\n",
              " Relationship(source=Node(id='Joshua Orobosa Zirkzee', type='Person'), target=Node(id='Ado Den Haag', type='Sports team'), type='PLAYED_FOR'),\n",
              " Relationship(source=Node(id='Joshua Orobosa Zirkzee', type='Person'), target=Node(id='Feyenoord', type='Sports team'), type='PLAYED_FOR'),\n",
              " Relationship(source=Node(id='Joshua Orobosa Zirkzee', type='Person'), target=Node(id='Bayern Munich', type='Sports team'), type='PLAYED_FOR'),\n",
              " Relationship(source=Node(id='Joshua Orobosa Zirkzee', type='Person'), target=Node(id='Bayern Munich Ii', type='Sports team'), type='PLAYED_FOR'),\n",
              " Relationship(source=Node(id='Joshua Orobosa Zirkzee', type='Person'), target=Node(id='Tottenham Hotspur', type='Sports team'), type='PLAYED_AGAINST'),\n",
              " Relationship(source=Node(id='Joshua Orobosa Zirkzee', type='Person'), target=Node(id='Freiburg', type='Sports team'), type='PLAYED_AGAINST'),\n",
              " Relationship(source=Node(id='Joshua Orobosa Zirkzee', type='Person'), target=Node(id='Wolfsburg', type='Sports team'), type='PLAYED_AGAINST'),\n",
              " Relationship(source=Node(id='Joshua Orobosa Zirkzee', type='Person'), target=Node(id='Borussia Mönchengladbach', type='Sports team'), type='PLAYED_AGAINST'),\n",
              " Relationship(source=Node(id='Joshua Orobosa Zirkzee', type='Person'), target=Node(id='Parma', type='Sports team'), type='PLAYED_FOR'),\n",
              " Relationship(source=Node(id='Joshua Orobosa Zirkzee', type='Person'), target=Node(id='Anderlecht', type='Sports team'), type='PLAYED_FOR'),\n",
              " Relationship(source=Node(id='Joshua Orobosa Zirkzee', type='Person'), target=Node(id='Bologna', type='Sports team'), type='PLAYED_FOR'),\n",
              " Relationship(source=Node(id='Joshua Orobosa Zirkzee', type='Person'), target=Node(id='Napoli', type='Sports team'), type='PLAYED_AGAINST')]"
            ]
          },
          "metadata": {},
          "execution_count": 13
        }
      ]
    },
    {
      "cell_type": "code",
      "source": [
        "### Load the dataset of movie\n",
        "\n",
        "movie_query=\"\"\"\n",
        "LOAD CSV WITH HEADERS FROM\n",
        "'https://raw.githubusercontent.com/tomasonjo/blog-datasets/main/movies/movies_small.csv' as row\n",
        "\n",
        "MERGE(m:Movie{id:row.movieId})\n",
        "SET m.released = date(row.released),\n",
        "    m.title = row.title,\n",
        "    m.imdbRating = toFloat(row.imdbRating)\n",
        "FOREACH (director in split(row.director, '|') |\n",
        "    MERGE (p:Person {name:trim(director)})\n",
        "    MERGE (p)-[:DIRECTED]->(m))\n",
        "FOREACH (actor in split(row.actors, '|') |\n",
        "    MERGE (p:Person {name:trim(actor)})\n",
        "    MERGE (p)-[:ACTED_IN]->(m))\n",
        "FOREACH (genre in split(row.genres, '|') |\n",
        "    MERGE (g:Genre {name:trim(genre)})\n",
        "    MERGE (m)-[:IN_GENRE]->(g))\n",
        "\"\"\""
      ],
      "metadata": {
        "id": "uLMdDP6dsNgv"
      },
      "execution_count": 14,
      "outputs": []
    },
    {
      "cell_type": "code",
      "source": [
        "graph"
      ],
      "metadata": {
        "colab": {
          "base_uri": "https://localhost:8080/"
        },
        "id": "VlX0hp8g4eX_",
        "outputId": "4e1a80b0-3b54-4562-c5cc-7a859389f526"
      },
      "execution_count": 15,
      "outputs": [
        {
          "output_type": "execute_result",
          "data": {
            "text/plain": [
              "<langchain_community.graphs.neo4j_graph.Neo4jGraph at 0x7ec8a5ae9060>"
            ]
          },
          "metadata": {},
          "execution_count": 15
        }
      ]
    },
    {
      "cell_type": "code",
      "source": [
        "graph.query(movie_query)"
      ],
      "metadata": {
        "colab": {
          "base_uri": "https://localhost:8080/"
        },
        "id": "GPdnM4El4gif",
        "outputId": "78de9f88-e021-442e-a7e6-43f66aab4dee"
      },
      "execution_count": 16,
      "outputs": [
        {
          "output_type": "execute_result",
          "data": {
            "text/plain": [
              "[]"
            ]
          },
          "metadata": {},
          "execution_count": 16
        }
      ]
    },
    {
      "cell_type": "code",
      "source": [
        "graph.refresh_schema()\n",
        "print(graph.schema)"
      ],
      "metadata": {
        "colab": {
          "base_uri": "https://localhost:8080/"
        },
        "id": "_eEenKbf4m2q",
        "outputId": "73f1ca95-e9e0-4252-d928-48394a364107"
      },
      "execution_count": 17,
      "outputs": [
        {
          "output_type": "stream",
          "name": "stdout",
          "text": [
            "Node properties:\n",
            "Person {born: INTEGER, name: STRING}\n",
            "Movie {title: STRING, released: INTEGER, id: STRING, imdbRating: FLOAT}\n",
            "Genre {name: STRING}\n",
            "Relationship properties:\n",
            "\n",
            "The relationships:\n",
            "(:Person)-[:ACTED_IN]->(:Movie)\n",
            "(:Person)-[:DIRECTED]->(:Movie)\n",
            "(:Movie)-[:IN_GENRE]->(:Genre)\n"
          ]
        }
      ]
    },
    {
      "cell_type": "code",
      "source": [
        "from langchain.chains import GraphCypherQAChain\n",
        "chain = GraphCypherQAChain.from_llm(llm=llm, graph=graph, verbose=True)\n",
        "chain"
      ],
      "metadata": {
        "colab": {
          "base_uri": "https://localhost:8080/"
        },
        "id": "H4yQO_Ag54YY",
        "outputId": "105b713e-5460-4a38-988d-5ddfbf82a779"
      },
      "execution_count": 18,
      "outputs": [
        {
          "output_type": "execute_result",
          "data": {
            "text/plain": [
              "GraphCypherQAChain(verbose=True, graph=<langchain_community.graphs.neo4j_graph.Neo4jGraph object at 0x7ec8a5ae9060>, cypher_generation_chain=LLMChain(prompt=PromptTemplate(input_variables=['question', 'schema'], template='Task:Generate Cypher statement to query a graph database.\\nInstructions:\\nUse only the provided relationship types and properties in the schema.\\nDo not use any other relationship types or properties that are not provided.\\nSchema:\\n{schema}\\nNote: Do not include any explanations or apologies in your responses.\\nDo not respond to any questions that might ask anything else than for you to construct a Cypher statement.\\nDo not include any text except the generated Cypher statement.\\n\\nThe question is:\\n{question}'), llm=ChatGroq(client=<groq.resources.chat.completions.Completions object at 0x7ec8734988b0>, async_client=<groq.resources.chat.completions.AsyncCompletions object at 0x7ec873499570>, model_name='Gemma2-9b-It', groq_api_key=SecretStr('**********'))), qa_chain=LLMChain(prompt=PromptTemplate(input_variables=['context', 'question'], template=\"You are an assistant that helps to form nice and human understandable answers.\\nThe information part contains the provided information that you must use to construct an answer.\\nThe provided information is authoritative, you must never doubt it or try to use your internal knowledge to correct it.\\nMake the answer sound as a response to the question. Do not mention that you based the result on the given information.\\nHere is an example:\\n\\nQuestion: Which managers own Neo4j stocks?\\nContext:[manager:CTL LLC, manager:JANE STREET GROUP LLC]\\nHelpful Answer: CTL LLC, JANE STREET GROUP LLC owns Neo4j stocks.\\n\\nFollow this example when generating answers.\\nIf the provided information is empty, say that you don't know the answer.\\nInformation:\\n{context}\\n\\nQuestion: {question}\\nHelpful Answer:\"), llm=ChatGroq(client=<groq.resources.chat.completions.Completions object at 0x7ec8734988b0>, async_client=<groq.resources.chat.completions.AsyncCompletions object at 0x7ec873499570>, model_name='Gemma2-9b-It', groq_api_key=SecretStr('**********'))), graph_schema='Node properties are the following:\\nPerson {born: INTEGER, name: STRING},Movie {title: STRING, released: INTEGER, id: STRING, imdbRating: FLOAT},Genre {name: STRING}\\nRelationship properties are the following:\\n\\nThe relationships are the following:\\n(:Person)-[:ACTED_IN]->(:Movie),(:Person)-[:DIRECTED]->(:Movie),(:Movie)-[:IN_GENRE]->(:Genre)')"
            ]
          },
          "metadata": {},
          "execution_count": 18
        }
      ]
    },
    {
      "cell_type": "code",
      "source": [
        "response=chain.invoke({\"query\":\"Who was the director of GoldenEye\"})\n",
        "response"
      ],
      "metadata": {
        "colab": {
          "base_uri": "https://localhost:8080/"
        },
        "id": "3TM8kc1Z6rU7",
        "outputId": "c1292b7f-30e5-4006-dc5b-7ad30d6dc804"
      },
      "execution_count": 19,
      "outputs": [
        {
          "output_type": "stream",
          "name": "stdout",
          "text": [
            "\n",
            "\n",
            "\u001b[1m> Entering new GraphCypherQAChain chain...\u001b[0m\n",
            "Generated Cypher:\n",
            "\u001b[32;1m\u001b[1;3mMATCH (m:Movie {title:\"GoldenEye\"})<-[:DIRECTED]-(p:Person) RETURN p.name  \n",
            "\u001b[0m\n",
            "Full Context:\n",
            "\u001b[32;1m\u001b[1;3m[{'p.name': 'Martin Campbell'}]\u001b[0m\n",
            "\n",
            "\u001b[1m> Finished chain.\u001b[0m\n"
          ]
        },
        {
          "output_type": "execute_result",
          "data": {
            "text/plain": [
              "{'query': 'Who was the director of GoldenEye', 'result': 'Martin Campbell  \\n'}"
            ]
          },
          "metadata": {},
          "execution_count": 19
        }
      ]
    },
    {
      "cell_type": "code",
      "source": [
        "response=chain.invoke({\"query\":\"Who were the actors of GoldenEye\"})\n",
        "response"
      ],
      "metadata": {
        "colab": {
          "base_uri": "https://localhost:8080/"
        },
        "id": "QXmTDefI7VfO",
        "outputId": "08aa276d-0ba8-43a7-b52d-92129b0c625d"
      },
      "execution_count": 20,
      "outputs": [
        {
          "output_type": "stream",
          "name": "stdout",
          "text": [
            "\n",
            "\n",
            "\u001b[1m> Entering new GraphCypherQAChain chain...\u001b[0m\n",
            "Generated Cypher:\n",
            "\u001b[32;1m\u001b[1;3mMATCH (m:Movie {title: \"GoldenEye\"})<-[:ACTED_IN]-(p:Person) RETURN p.name \n",
            "\u001b[0m\n",
            "Full Context:\n",
            "\u001b[32;1m\u001b[1;3m[{'p.name': 'Pierce Brosnan'}, {'p.name': 'Famke Janssen'}, {'p.name': 'Sean Bean'}, {'p.name': 'Izabella Scorupco'}]\u001b[0m\n",
            "\n",
            "\u001b[1m> Finished chain.\u001b[0m\n"
          ]
        },
        {
          "output_type": "execute_result",
          "data": {
            "text/plain": [
              "{'query': 'Who were the actors of GoldenEye',\n",
              " 'result': 'Pierce Brosnan, Famke Janssen, Sean Bean, and Izabella Scorupco were the actors of GoldenEye. \\n'}"
            ]
          },
          "metadata": {},
          "execution_count": 20
        }
      ]
    },
    {
      "cell_type": "code",
      "source": [
        "response=chain.invoke({\"query\":\"What is the genre of the movie GoldenEye\"})\n",
        "response"
      ],
      "metadata": {
        "colab": {
          "base_uri": "https://localhost:8080/"
        },
        "id": "JQ0TZtPl7dsu",
        "outputId": "293470cc-dd27-45c0-9539-52fa6127bea7"
      },
      "execution_count": 24,
      "outputs": [
        {
          "output_type": "stream",
          "name": "stdout",
          "text": [
            "\n",
            "\n",
            "\u001b[1m> Entering new GraphCypherQAChain chain...\u001b[0m\n",
            "Generated Cypher:\n",
            "\u001b[32;1m\u001b[1;3mMATCH (m:Movie {title: \"GoldenEye\"})-[:IN_GENRE]->(g:Genre) RETURN g.name \n",
            "\u001b[0m\n",
            "Full Context:\n",
            "\u001b[32;1m\u001b[1;3m[{'g.name': 'Adventure'}, {'g.name': 'Action'}, {'g.name': 'Thriller'}]\u001b[0m\n",
            "\n",
            "\u001b[1m> Finished chain.\u001b[0m\n"
          ]
        },
        {
          "output_type": "execute_result",
          "data": {
            "text/plain": [
              "{'query': 'What is the genre of the movie GoldenEye',\n",
              " 'result': 'Adventure, Action, Thriller  \\n'}"
            ]
          },
          "metadata": {},
          "execution_count": 24
        }
      ]
    },
    {
      "cell_type": "code",
      "source": [],
      "metadata": {
        "id": "sYIqM05c8T5l"
      },
      "execution_count": null,
      "outputs": []
    }
  ]
}